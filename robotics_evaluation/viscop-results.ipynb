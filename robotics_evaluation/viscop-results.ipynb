{
 "cells": [
  {
   "cell_type": "markdown",
   "id": "006d2ed2-23d6-44e1-a497-4afdbbeb60ed",
   "metadata": {},
   "source": [
    "# VIMA evaluation\n",
    "\n",
    "## Load all evaluation results"
   ]
  },
  {
   "cell_type": "code",
   "execution_count": null,
   "id": "104811ee-762c-4c56-8952-5b1a9b198739",
   "metadata": {},
   "outputs": [],
   "source": [
    "from glob import glob\n",
    "import pandas as pd\n",
    "import matplotlib.pyplot as plt\n",
    "import seaborn as sns\n",
    "import json\n",
    "import re\n",
    "\n",
    "levels = ['placement_generalization',\n",
    " 'combinatorial_generalization',\n",
    " 'novel_object_generalization',\n",
    " 'novel_task_generalization']\n",
    "\n",
    "files = glob('./results/[*.json')\n",
    "result = []\n",
    "\n",
    "for f in files:\n",
    "    model_name = f[:-5]\n",
    "    model_name = re.sub(r'\\(.*\\)', '', model_name).split(']')[-1]\n",
    "    \n",
    "    js = json.load(open(f, 'r'))\n",
    "\n",
    "    # about prompt mode\n",
    "    pm = ''\n",
    "    pid = -1\n",
    "    prop = []\n",
    "    model_path = None\n",
    "    for i, j in js.items():\n",
    "        if i == 'global':\n",
    "            pm = j.get('prompt_mode', 'N/A')\n",
    "            pid = j.get('prompt_id', -2)\n",
    "            model_path = j.get('model_path', None)\n",
    "        else:\n",
    "            try:\n",
    "                del j['lm_prompt_hist']\n",
    "                del j['lm_answer_hist']\n",
    "            except:\n",
    "                pass\n",
    "            prop.append(j)\n",
    "\n",
    "    for i in prop:\n",
    "        i['level'] = f\"L{levels.index(i['level']) + 1}\"\n",
    "        if pid < 0:\n",
    "            # these methods use random user_prompt for action generation (default setting reported in paper)\n",
    "            i['method'] = model_name\n",
    "        elif pid < 15:\n",
    "            # these methods use a fixed user_prompt for action generation\n",
    "            i['method'] = model_name + f'_prompt{pid:03d}'\n",
    "        else:\n",
    "            # these methods omit the user_prompt for action generation\n",
    "            i['method'] = model_name + '_no_prompt'\n",
    "        i['prompt_mode'] = pm\n",
    "    result.extend(prop)\n",
    "\n",
    "\n",
    "df = pd.DataFrame(result).fillna('')\n",
    "display(df.head())"
   ]
  },
  {
   "cell_type": "markdown",
   "id": "2dbb1e86-8957-467d-8dcd-9b38024cd627",
   "metadata": {},
   "source": [
    "## Show the success rate"
   ]
  },
  {
   "cell_type": "code",
   "execution_count": null,
   "id": "c8012f26-ac97-4ae9-aebe-5cb2bad36d3e",
   "metadata": {},
   "outputs": [],
   "source": [
    "def show_results(data, data_total):\n",
    "    # Pivot the table\n",
    "    grouped = data.groupby(['method', 'prompt_mode', 'level']).size().unstack(fill_value=0)\n",
    "    total = data_total.groupby(['method', 'prompt_mode', 'level']).size().unstack(fill_value=0)\n",
    "    \n",
    "    # Create a new dataframe with the desired text format\n",
    "    result = total.copy().astype(str)  # Copy the structure of table1\n",
    "    for col in total.columns:\n",
    "        for idx in total.index:\n",
    "            if total.loc[idx, col] > 0:\n",
    "                try:\n",
    "                    result.loc[idx, col] = f\"{grouped.loc[idx, col]} / {total.loc[idx, col]} ({grouped.loc[idx, col] / total.loc[idx, col] * 100:.1f}%)\"\n",
    "                except KeyError:\n",
    "                    result.loc[idx, col] = f\"0 / {total.loc[idx, col]} (0.0%)\"\n",
    "            else:\n",
    "                result.loc[idx, col] = 'N/A'\n",
    "    \n",
    "    display(result)\n",
    "    \n",
    "print('Please note that results for L4 are not valid because there is no rotation data when the end effector is a spatula.')\n",
    "show_results(df[df['success']], df)"
   ]
  }
 ],
 "metadata": {
  "kernelspec": {
   "display_name": "Python 3",
   "language": "python",
   "name": "python3"
  },
  "language_info": {
   "codemirror_mode": {
    "name": "ipython",
    "version": 3
   },
   "file_extension": ".py",
   "mimetype": "text/x-python",
   "name": "python",
   "nbconvert_exporter": "python",
   "pygments_lexer": "ipython3",
   "version": "3.10.13"
  }
 },
 "nbformat": 4,
 "nbformat_minor": 5
}
